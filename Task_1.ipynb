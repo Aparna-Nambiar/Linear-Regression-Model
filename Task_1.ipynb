{
 "cells": [
  {
   "cell_type": "markdown",
   "metadata": {},
   "source": [
    "# The Sparks Foundation\n",
    "\n",
    "## Task 1: Prediction using Supervised ML\n",
    "\n",
    "## Name : Aparna Nambiar\n",
    "### Problem Statement:\n",
    "### Predict the percentage of a student based on the no. of study hours \n",
    "### What will be the predicted score if a student studies for 9.25 hrs/day?\n"
   ]
  },
  {
   "cell_type": "markdown",
   "metadata": {},
   "source": [
    "**Importing libraries**\n",
    "\n"
   ]
  },
  {
   "cell_type": "code",
   "execution_count": 14,
   "metadata": {},
   "outputs": [],
   "source": [
    "library(readr)\n",
    "library(ggplot2)"
   ]
  },
  {
   "cell_type": "markdown",
   "metadata": {},
   "source": [
    "**Loading the given dataset**\n",
    "\n"
   ]
  },
  {
   "cell_type": "code",
   "execution_count": 15,
   "metadata": {},
   "outputs": [
    {
     "name": "stderr",
     "output_type": "stream",
     "text": [
      "Parsed with column specification:\n",
      "cols(\n",
      "  Hours = \u001b[32mcol_double()\u001b[39m,\n",
      "  Scores = \u001b[32mcol_double()\u001b[39m\n",
      ")\n",
      "\n"
     ]
    },
    {
     "data": {
      "text/html": [
       "<table>\n",
       "<caption>A tibble: 6 × 2</caption>\n",
       "<thead>\n",
       "\t<tr><th scope=col>Hours</th><th scope=col>Scores</th></tr>\n",
       "\t<tr><th scope=col>&lt;dbl&gt;</th><th scope=col>&lt;dbl&gt;</th></tr>\n",
       "</thead>\n",
       "<tbody>\n",
       "\t<tr><td>2.5</td><td>21</td></tr>\n",
       "\t<tr><td>5.1</td><td>47</td></tr>\n",
       "\t<tr><td>3.2</td><td>27</td></tr>\n",
       "\t<tr><td>8.5</td><td>75</td></tr>\n",
       "\t<tr><td>3.5</td><td>30</td></tr>\n",
       "\t<tr><td>1.5</td><td>20</td></tr>\n",
       "</tbody>\n",
       "</table>\n"
      ],
      "text/latex": [
       "A tibble: 6 × 2\n",
       "\\begin{tabular}{ll}\n",
       " Hours & Scores\\\\\n",
       " <dbl> & <dbl>\\\\\n",
       "\\hline\n",
       "\t 2.5 & 21\\\\\n",
       "\t 5.1 & 47\\\\\n",
       "\t 3.2 & 27\\\\\n",
       "\t 8.5 & 75\\\\\n",
       "\t 3.5 & 30\\\\\n",
       "\t 1.5 & 20\\\\\n",
       "\\end{tabular}\n"
      ],
      "text/markdown": [
       "\n",
       "A tibble: 6 × 2\n",
       "\n",
       "| Hours &lt;dbl&gt; | Scores &lt;dbl&gt; |\n",
       "|---|---|\n",
       "| 2.5 | 21 |\n",
       "| 5.1 | 47 |\n",
       "| 3.2 | 27 |\n",
       "| 8.5 | 75 |\n",
       "| 3.5 | 30 |\n",
       "| 1.5 | 20 |\n",
       "\n"
      ],
      "text/plain": [
       "  Hours Scores\n",
       "1 2.5   21    \n",
       "2 5.1   47    \n",
       "3 3.2   27    \n",
       "4 8.5   75    \n",
       "5 3.5   30    \n",
       "6 1.5   20    "
      ]
     },
     "metadata": {},
     "output_type": "display_data"
    },
    {
     "data": {
      "text/html": [
       "<table>\n",
       "<caption>A tibble: 6 × 2</caption>\n",
       "<thead>\n",
       "\t<tr><th scope=col>Hours</th><th scope=col>Scores</th></tr>\n",
       "\t<tr><th scope=col>&lt;dbl&gt;</th><th scope=col>&lt;dbl&gt;</th></tr>\n",
       "</thead>\n",
       "<tbody>\n",
       "\t<tr><td>7.4</td><td>69</td></tr>\n",
       "\t<tr><td>2.7</td><td>30</td></tr>\n",
       "\t<tr><td>4.8</td><td>54</td></tr>\n",
       "\t<tr><td>3.8</td><td>35</td></tr>\n",
       "\t<tr><td>6.9</td><td>76</td></tr>\n",
       "\t<tr><td>7.8</td><td>86</td></tr>\n",
       "</tbody>\n",
       "</table>\n"
      ],
      "text/latex": [
       "A tibble: 6 × 2\n",
       "\\begin{tabular}{ll}\n",
       " Hours & Scores\\\\\n",
       " <dbl> & <dbl>\\\\\n",
       "\\hline\n",
       "\t 7.4 & 69\\\\\n",
       "\t 2.7 & 30\\\\\n",
       "\t 4.8 & 54\\\\\n",
       "\t 3.8 & 35\\\\\n",
       "\t 6.9 & 76\\\\\n",
       "\t 7.8 & 86\\\\\n",
       "\\end{tabular}\n"
      ],
      "text/markdown": [
       "\n",
       "A tibble: 6 × 2\n",
       "\n",
       "| Hours &lt;dbl&gt; | Scores &lt;dbl&gt; |\n",
       "|---|---|\n",
       "| 7.4 | 69 |\n",
       "| 2.7 | 30 |\n",
       "| 4.8 | 54 |\n",
       "| 3.8 | 35 |\n",
       "| 6.9 | 76 |\n",
       "| 7.8 | 86 |\n",
       "\n"
      ],
      "text/plain": [
       "  Hours Scores\n",
       "1 7.4   69    \n",
       "2 2.7   30    \n",
       "3 4.8   54    \n",
       "4 3.8   35    \n",
       "5 6.9   76    \n",
       "6 7.8   86    "
      ]
     },
     "metadata": {},
     "output_type": "display_data"
    }
   ],
   "source": [
    "data <- read_csv(\"https://raw.githubusercontent.com/AdiPersonalWorks/Random/master/student_scores%20-%20student_scores.csv\")\n",
    "head(data)\n",
    "tail(data)"
   ]
  },
  {
   "cell_type": "markdown",
   "metadata": {},
   "source": [
    "**plotting data**"
   ]
  },
  {
   "cell_type": "code",
   "execution_count": 17,
   "metadata": {},
   "outputs": [
    {
     "data": {
      "image/png": "[encoded data removed]",
      "text/plain": [
       "plot without title"
      ]
     },
     "metadata": {
      "image/png": {
       "height": 420,
       "width": 420
      },
      "text/plain": {
       "height": 420,
       "width": 420
      }
     },
     "output_type": "display_data"
    }
   ],
   "source": [
    "ggplot(data,aes(x=Hours,y=Scores))+geom_point()+ggtitle(\"Hours studied vs Scores\")+labs(caption = \"There is a positive linear relation between the number of hours studied and percentage of score.\")"
   ]
  },
  {
   "cell_type": "markdown",
   "metadata": {},
   "source": [
    "**Applying linear regression**"
   ]
  },
  {
   "cell_type": "code",
   "execution_count": 16,
   "metadata": {},
   "outputs": [
    {
     "data": {
      "text/plain": [
       "\n",
       "Call:\n",
       "lm(formula = data$Scores ~ data$Hours)\n",
       "\n",
       "Residuals:\n",
       "    Min      1Q  Median      3Q     Max \n",
       "-10.578  -5.340   1.839   4.593   7.265 \n",
       "\n",
       "Coefficients:\n",
       "            Estimate Std. Error t value Pr(>|t|)    \n",
       "(Intercept)   2.4837     2.5317   0.981    0.337    \n",
       "data$Hours    9.7758     0.4529  21.583   <2e-16 ***\n",
       "---\n",
       "Signif. codes:  0 ‘***’ 0.001 ‘**’ 0.01 ‘*’ 0.05 ‘.’ 0.1 ‘ ’ 1\n",
       "\n",
       "Residual standard error: 5.603 on 23 degrees of freedom\n",
       "Multiple R-squared:  0.9529,\tAdjusted R-squared:  0.9509 \n",
       "F-statistic: 465.8 on 1 and 23 DF,  p-value: < 2.2e-16\n"
      ]
     },
     "metadata": {},
     "output_type": "display_data"
    }
   ],
   "source": [
    "model=lm(data$Scores~data$Hours)\n",
    "summary(model)"
   ]
  },
  {
   "cell_type": "markdown",
   "metadata": {},
   "source": [
    "**PLotting the regression line**"
   ]
  },
  {
   "cell_type": "code",
   "execution_count": 18,
   "metadata": {},
   "outputs": [
    {
     "data": {
      "image/png": "[encoded data removed]",
      "text/plain": [
       "plot without title"
      ]
     },
     "metadata": {
      "image/png": {
       "height": 420,
       "width": 420
      },
      "text/plain": {
       "height": 420,
       "width": 420
      }
     },
     "output_type": "display_data"
    }
   ],
   "source": [
    "ggplot(data,aes(x=Hours,y=Scores))+geom_point()+stat_smooth(method = \"lm\", col = \"dodgerblue3\")+ggtitle(\"Linear Model Fitted to Data\")"
   ]
  },
  {
   "cell_type": "markdown",
   "metadata": {},
   "source": [
    "**Predicting the scores**"
   ]
  },
  {
   "cell_type": "code",
   "execution_count": 19,
   "metadata": {},
   "outputs": [],
   "source": [
    "predicted=predict(model,data.frame(data$Hours))\n"
   ]
  },
  {
   "cell_type": "markdown",
   "metadata": {},
   "source": [
    "**Comparing Actual vs Predicted**"
   ]
  },
  {
   "cell_type": "code",
   "execution_count": 20,
   "metadata": {},
   "outputs": [
    {
     "data": {
      "text/html": [
       "<table>\n",
       "<caption>A data.frame: 25 × 2</caption>\n",
       "<thead>\n",
       "\t<tr><th></th><th scope=col>predicted</th><th scope=col>data.Scores</th></tr>\n",
       "\t<tr><th></th><th scope=col>&lt;dbl&gt;</th><th scope=col>&lt;dbl&gt;</th></tr>\n",
       "</thead>\n",
       "<tbody>\n",
       "\t<tr><th scope=row>1</th><td>26.92318</td><td>21</td></tr>\n",
       "\t<tr><th scope=row>2</th><td>52.34027</td><td>47</td></tr>\n",
       "\t<tr><th scope=row>3</th><td>33.76624</td><td>27</td></tr>\n",
       "\t<tr><th scope=row>4</th><td>85.57800</td><td>75</td></tr>\n",
       "\t<tr><th scope=row>5</th><td>36.69899</td><td>30</td></tr>\n",
       "\t<tr><th scope=row>6</th><td>17.14738</td><td>20</td></tr>\n",
       "\t<tr><th scope=row>7</th><td>92.42106</td><td>88</td></tr>\n",
       "\t<tr><th scope=row>8</th><td>56.25059</td><td>60</td></tr>\n",
       "\t<tr><th scope=row>9</th><td>83.62284</td><td>81</td></tr>\n",
       "\t<tr><th scope=row>10</th><td>28.87834</td><td>25</td></tr>\n",
       "\t<tr><th scope=row>11</th><td>77.75736</td><td>85</td></tr>\n",
       "\t<tr><th scope=row>12</th><td>60.16091</td><td>62</td></tr>\n",
       "\t<tr><th scope=row>13</th><td>46.47479</td><td>41</td></tr>\n",
       "\t<tr><th scope=row>14</th><td>34.74382</td><td>42</td></tr>\n",
       "\t<tr><th scope=row>15</th><td>13.23706</td><td>17</td></tr>\n",
       "\t<tr><th scope=row>16</th><td>89.48832</td><td>95</td></tr>\n",
       "\t<tr><th scope=row>17</th><td>26.92318</td><td>30</td></tr>\n",
       "\t<tr><th scope=row>18</th><td>21.05770</td><td>24</td></tr>\n",
       "\t<tr><th scope=row>19</th><td>62.11607</td><td>67</td></tr>\n",
       "\t<tr><th scope=row>20</th><td>74.82462</td><td>69</td></tr>\n",
       "\t<tr><th scope=row>21</th><td>28.87834</td><td>30</td></tr>\n",
       "\t<tr><th scope=row>22</th><td>49.40753</td><td>54</td></tr>\n",
       "\t<tr><th scope=row>23</th><td>39.63173</td><td>35</td></tr>\n",
       "\t<tr><th scope=row>24</th><td>69.93672</td><td>76</td></tr>\n",
       "\t<tr><th scope=row>25</th><td>78.73494</td><td>86</td></tr>\n",
       "</tbody>\n",
       "</table>\n"
      ],
      "text/latex": [
       "A data.frame: 25 × 2\n",
       "\\begin{tabular}{r|ll}\n",
       "  & predicted & data.Scores\\\\\n",
       "  & <dbl> & <dbl>\\\\\n",
       "\\hline\n",
       "\t1 & 26.92318 & 21\\\\\n",
       "\t2 & 52.34027 & 47\\\\\n",
       "\t3 & 33.76624 & 27\\\\\n",
       "\t4 & 85.57800 & 75\\\\\n",
       "\t5 & 36.69899 & 30\\\\\n",
       "\t6 & 17.14738 & 20\\\\\n",
       "\t7 & 92.42106 & 88\\\\\n",
       "\t8 & 56.25059 & 60\\\\\n",
       "\t9 & 83.62284 & 81\\\\\n",
       "\t10 & 28.87834 & 25\\\\\n",
       "\t11 & 77.75736 & 85\\\\\n",
       "\t12 & 60.16091 & 62\\\\\n",
       "\t13 & 46.47479 & 41\\\\\n",
       "\t14 & 34.74382 & 42\\\\\n",
       "\t15 & 13.23706 & 17\\\\\n",
       "\t16 & 89.48832 & 95\\\\\n",
       "\t17 & 26.92318 & 30\\\\\n",
       "\t18 & 21.05770 & 24\\\\\n",
       "\t19 & 62.11607 & 67\\\\\n",
       "\t20 & 74.82462 & 69\\\\\n",
       "\t21 & 28.87834 & 30\\\\\n",
       "\t22 & 49.40753 & 54\\\\\n",
       "\t23 & 39.63173 & 35\\\\\n",
       "\t24 & 69.93672 & 76\\\\\n",
       "\t25 & 78.73494 & 86\\\\\n",
       "\\end{tabular}\n"
      ],
      "text/markdown": [
       "\n",
       "A data.frame: 25 × 2\n",
       "\n",
       "| <!--/--> | predicted &lt;dbl&gt; | data.Scores &lt;dbl&gt; |\n",
       "|---|---|---|\n",
       "| 1 | 26.92318 | 21 |\n",
       "| 2 | 52.34027 | 47 |\n",
       "| 3 | 33.76624 | 27 |\n",
       "| 4 | 85.57800 | 75 |\n",
       "| 5 | 36.69899 | 30 |\n",
       "| 6 | 17.14738 | 20 |\n",
       "| 7 | 92.42106 | 88 |\n",
       "| 8 | 56.25059 | 60 |\n",
       "| 9 | 83.62284 | 81 |\n",
       "| 10 | 28.87834 | 25 |\n",
       "| 11 | 77.75736 | 85 |\n",
       "| 12 | 60.16091 | 62 |\n",
       "| 13 | 46.47479 | 41 |\n",
       "| 14 | 34.74382 | 42 |\n",
       "| 15 | 13.23706 | 17 |\n",
       "| 16 | 89.48832 | 95 |\n",
       "| 17 | 26.92318 | 30 |\n",
       "| 18 | 21.05770 | 24 |\n",
       "| 19 | 62.11607 | 67 |\n",
       "| 20 | 74.82462 | 69 |\n",
       "| 21 | 28.87834 | 30 |\n",
       "| 22 | 49.40753 | 54 |\n",
       "| 23 | 39.63173 | 35 |\n",
       "| 24 | 69.93672 | 76 |\n",
       "| 25 | 78.73494 | 86 |\n",
       "\n"
      ],
      "text/plain": [
       "   predicted data.Scores\n",
       "1  26.92318  21         \n",
       "2  52.34027  47         \n",
       "3  33.76624  27         \n",
       "4  85.57800  75         \n",
       "5  36.69899  30         \n",
       "6  17.14738  20         \n",
       "7  92.42106  88         \n",
       "8  56.25059  60         \n",
       "9  83.62284  81         \n",
       "10 28.87834  25         \n",
       "11 77.75736  85         \n",
       "12 60.16091  62         \n",
       "13 46.47479  41         \n",
       "14 34.74382  42         \n",
       "15 13.23706  17         \n",
       "16 89.48832  95         \n",
       "17 26.92318  30         \n",
       "18 21.05770  24         \n",
       "19 62.11607  67         \n",
       "20 74.82462  69         \n",
       "21 28.87834  30         \n",
       "22 49.40753  54         \n",
       "23 39.63173  35         \n",
       "24 69.93672  76         \n",
       "25 78.73494  86         "
      ]
     },
     "metadata": {},
     "output_type": "display_data"
    }
   ],
   "source": [
    "data.frame(predicted,data$Scores)"
   ]
  },
  {
   "cell_type": "markdown",
   "metadata": {},
   "source": [
    "**predicting the score if a student studies for 9.25 hrs/ day**"
   ]
  },
  {
   "cell_type": "code",
   "execution_count": 21,
   "metadata": {},
   "outputs": [
    {
     "data": {
      "text/html": [
       "<strong>(Intercept):</strong> 92.9098547701573"
      ],
      "text/latex": [
       "\\textbf{(Intercept):} 92.9098547701573"
      ],
      "text/markdown": [
       "**(Intercept):** 92.9098547701573"
      ],
      "text/plain": [
       "(Intercept) \n",
       "   92.90985 "
      ]
     },
     "metadata": {},
     "output_type": "display_data"
    }
   ],
   "source": [
    "Hours=9.25\n",
    "Score=model$coefficients[1]+model$coefficients[2]*Hours\n",
    "Score"
   ]
  },
  {
   "cell_type": "markdown",
   "metadata": {},
   "source": [
    "**Evaluating the model**"
   ]
  },
  {
   "cell_type": "code",
   "execution_count": 22,
   "metadata": {},
   "outputs": [
    {
     "data": {
      "text/html": [
       "0.952948196904836"
      ],
      "text/latex": [
       "0.952948196904836"
      ],
      "text/markdown": [
       "0.952948196904836"
      ],
      "text/plain": [
       "[1] 0.9529482"
      ]
     },
     "metadata": {},
     "output_type": "display_data"
    }
   ],
   "source": [
    "summary(model)$r.squared\n"
   ]
  },
  {
   "cell_type": "markdown",
   "metadata": {},
   "source": [
    "**The R square value is 0.95 i.e.the model has worked well for our data**"
   ]
  }
 ],
 "metadata": {
  "kernelspec": {
   "display_name": "R",
   "language": "R",
   "name": "ir"
  },
  "language_info": {
   "codemirror_mode": "r",
   "file_extension": ".r",
   "mimetype": "text/x-r-source",
   "name": "R",
   "pygments_lexer": "r",
   "version": "3.6.3"
  }
 },
 "nbformat": 4,
 "nbformat_minor": 4
}
